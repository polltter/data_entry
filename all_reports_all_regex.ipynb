{
 "cells": [
  {
   "cell_type": "code",
   "execution_count": 1,
   "metadata": {
    "ExecuteTime": {
     "end_time": "2023-06-22T15:37:42.593401712Z",
     "start_time": "2023-06-22T15:37:42.514227420Z"
    }
   },
   "outputs": [],
   "source": [
    "from utils import *"
   ]
  },
  {
   "cell_type": "code",
   "execution_count": 2,
   "metadata": {
    "ExecuteTime": {
     "end_time": "2023-06-22T15:37:42.598700277Z",
     "start_time": "2023-06-22T15:37:42.596111885Z"
    }
   },
   "outputs": [],
   "source": [
    "regexes = {}\n",
    "\n",
    "regexes['ghg'] = '(scope (1|2|3)|direct|indirect)? ?(ghg|gas|greenhouse gas|total|) ?emissions?.{0,30}(ton|tonnes|t ?co2e)'\n",
    "regexes ['energy consumption'] = 'energy.{1,10}wh'\n",
    "regexes ['water consumption'] = 'water (consumption|withdrawal).{1,30}(liters|litres)'\n",
    "regexes ['Hazardous'] = '(hazardous waste|radioactive waste)'\n",
    "regexes ['Number of employees'] = '((employees|collaborators).{0,10}\\d+(\\.|,|\\d)+|number of employees|employee overview)'\n",
    "regexes ['Gender percentage'] = '(male|gender).{1,30}%'\n",
    "regexes ['Turnover rate'] = '(employee turnover|turnover (rate ){0,1}of employees)'\n",
    "regexes ['Gender pay gap'] = 'pay gap|remuneration gap|ratio.{1,30}salary'\n",
    "regexes ['ratio fm board'] = 'gender distribution|ratio.{1,30}board|female.{1,30}board|women.{1,30}board|board female'\n"
   ]
  },
  {
   "cell_type": "code",
   "execution_count": 3,
   "metadata": {
    "ExecuteTime": {
     "end_time": "2023-06-22T15:37:47.411685428Z",
     "start_time": "2023-06-22T15:37:42.601091680Z"
    }
   },
   "outputs": [],
   "source": [
    "report_path = 'reports/Bank of Nova Scotia Halifax_2017.pdf'\n",
    "content = load_reports(report_path)\n",
    "report_name = list(content.keys())[0]"
   ]
  },
  {
   "cell_type": "code",
   "execution_count": 4,
   "metadata": {
    "ExecuteTime": {
     "end_time": "2023-06-22T15:37:47.442822378Z",
     "start_time": "2023-06-22T15:37:47.441085238Z"
    }
   },
   "outputs": [],
   "source": [
    "results = all_regex_one_report(content, regexes)"
   ]
  },
  {
   "cell_type": "code",
   "execution_count": 5,
   "metadata": {
    "ExecuteTime": {
     "end_time": "2023-06-22T15:37:47.454608943Z",
     "start_time": "2023-06-22T15:37:47.443733141Z"
    }
   },
   "outputs": [
    {
     "data": {
      "text/plain": [
       "dict_keys(['ghg', 'energy consumption', 'water consumption', 'Hazardous', 'Number of employees', 'Gender percentage', 'Turnover rate', 'Gender pay gap', 'ratio fm board'])"
      ]
     },
     "execution_count": 5,
     "metadata": {},
     "output_type": "execute_result"
    }
   ],
   "source": [
    "results.keys()"
   ]
  },
  {
   "cell_type": "code",
   "execution_count": 7,
   "metadata": {
    "ExecuteTime": {
     "end_time": "2023-06-22T15:37:49.138630214Z",
     "start_time": "2023-06-22T15:37:47.456540694Z"
    }
   },
   "outputs": [
    {
     "name": "stdout",
     "output_type": "stream",
     "text": [
      "Processing...\n",
      "/home/miguel/Documents/data_entry\n",
      "Done!\n",
      "Processing...\n",
      "Done!\n",
      "Processing...\n",
      "/home/miguel/Documents/data_entry\n",
      "Done!\n",
      "Processing...\n",
      "Done!\n",
      "Processing...\n",
      "/home/miguel/Documents/data_entry\n",
      "Done!\n",
      "Processing...\n",
      "Done!\n",
      "Processing...\n",
      "/home/miguel/Documents/data_entry\n",
      "Done!\n",
      "Processing...\n",
      "Done!\n",
      "Processing...\n",
      "/home/miguel/Documents/data_entry\n",
      "Done!\n",
      "Processing...\n",
      "Done!\n",
      "Processing...\n",
      "/home/miguel/Documents/data_entry\n",
      "Done!\n",
      "Processing...\n",
      "Done!\n",
      "Processing...\n",
      "/home/miguel/Documents/data_entry\n",
      "Done!\n",
      "Processing...\n",
      "Done!\n",
      "Processing...\n",
      "/home/miguel/Documents/data_entry\n",
      "Done!\n",
      "Processing...\n",
      "Done!\n",
      "Processing...\n",
      "/home/miguel/Documents/data_entry\n",
      "Done!\n",
      "Processing...\n",
      "Done!\n",
      "Processing...\n",
      "/home/miguel/Documents/data_entry\n",
      "Done!\n",
      "Processing...\n",
      "Done!\n",
      "Processing...\n",
      "/home/miguel/Documents/data_entry\n",
      "Done!\n",
      "Processing...\n",
      "Done!\n",
      "Processing...\n",
      "/home/miguel/Documents/data_entry\n",
      "Done!\n",
      "Processing...\n",
      "Done!\n",
      "Processing...\n",
      "/home/miguel/Documents/data_entry\n",
      "Done!\n",
      "Processing...\n",
      "Done!\n",
      "Processing...\n",
      "/home/miguel/Documents/data_entry\n",
      "Done!\n",
      "Processing...\n",
      "Done!\n",
      "Processing...\n",
      "/home/miguel/Documents/data_entry\n",
      "Done!\n",
      "Processing...\n",
      "Done!\n",
      "Processing...\n",
      "/home/miguel/Documents/data_entry\n",
      "Done!\n",
      "Processing...\n",
      "Done!\n"
     ]
    }
   ],
   "source": [
    "for indicator in results:\n",
    "    get_images(report_name, results[indicator], indicator)"
   ]
  },
  {
   "cell_type": "code",
   "execution_count": null,
   "metadata": {},
   "outputs": [],
   "source": []
  }
 ],
 "metadata": {
  "kernelspec": {
   "display_name": "Python 3 (ipykernel)",
   "language": "python",
   "name": "python3"
  },
  "language_info": {
   "codemirror_mode": {
    "name": "ipython",
    "version": 3
   },
   "file_extension": ".py",
   "mimetype": "text/x-python",
   "name": "python",
   "nbconvert_exporter": "python",
   "pygments_lexer": "ipython3",
   "version": "3.10.6"
  }
 },
 "nbformat": 4,
 "nbformat_minor": 1
}
