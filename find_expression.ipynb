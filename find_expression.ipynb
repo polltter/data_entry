{
 "cells": [
  {
   "cell_type": "code",
   "execution_count": null,
   "metadata": {},
   "outputs": [],
   "source": [
    "from utils import *"
   ]
  },
  {
   "cell_type": "markdown",
   "source": [
    "## Here are the expressions and the name of the indicator they're trying to match"
   ],
   "metadata": {
    "collapsed": false
   }
  },
  {
   "cell_type": "code",
   "execution_count": null,
   "metadata": {},
   "outputs": [],
   "source": [
    "regexes = {}\n",
    "\n",
    "regexes['ghg'] = '(scope (1|2|3)|direct|indirect)? ?(ghg|gas|greenhouse gas|total|) ?emissions?.{0,30}(ton|tonnes|t ?co2e)'\n",
    "regexes ['energy consumption'] = 'energy.{1,10}wh'\n",
    "regexes ['water consumption'] = 'water (consumption|withdrawal).{1,30}(liters|litres)'\n",
    "regexes ['Hazardous'] = '(hazardous waste|radioactive waste)'\n",
    "regexes ['Number of employees'] = '((employees|collaborators).{0,10}\\d+(\\.|,|\\d)+|number of employees|employee overview)'\n",
    "regexes ['Gender percentage'] = '(male|gender).{1,30}%'\n",
    "regexes ['Turnover rate'] = '(employee turnover|turnover (rate ){0,1}of employees)'\n",
    "regexes ['Gender pay gap'] = 'pay gap|remuneration gap|ratio.{1,30}salary'\n",
    "regexes ['ratio fm board'] = 'gender distribution|ratio.{1,30}board|female.{1,30}board|women.{1,30}board|board female'\n"
   ]
  },
  {
   "cell_type": "markdown",
   "source": [
    "The variable `report_path` holds the path to the report. It should be `report/` followed by the name of the report."
   ],
   "metadata": {
    "collapsed": false
   }
  },
  {
   "cell_type": "code",
   "execution_count": null,
   "metadata": {},
   "outputs": [],
   "source": [
    "report_path = 'reports/Bank of Nova Scotia Halifax_2017.pdf'\n",
    "content = load_reports(report_path)\n",
    "report_name = list(content.keys())[0]"
   ]
  },
  {
   "cell_type": "markdown",
   "source": [
    "Get the matches in the content of the report"
   ],
   "metadata": {
    "collapsed": false
   }
  },
  {
   "cell_type": "code",
   "execution_count": null,
   "metadata": {},
   "outputs": [],
   "source": [
    "results = all_regex_one_report(content, regexes)"
   ]
  },
  {
   "cell_type": "markdown",
   "source": [
    "Create the images from the matches. Outputs them to the folder output_data/crops"
   ],
   "metadata": {
    "collapsed": false
   }
  },
  {
   "cell_type": "code",
   "execution_count": null,
   "metadata": {},
   "outputs": [],
   "source": [
    "for indicator in results:\n",
    "    get_images(report_name, results[indicator], indicator)"
   ]
  }
 ],
 "metadata": {
  "kernelspec": {
   "display_name": "Python 3 (ipykernel)",
   "language": "python",
   "name": "python3"
  },
  "language_info": {
   "codemirror_mode": {
    "name": "ipython",
    "version": 3
   },
   "file_extension": ".py",
   "mimetype": "text/x-python",
   "name": "python",
   "nbconvert_exporter": "python",
   "pygments_lexer": "ipython3",
   "version": "3.10.6"
  }
 },
 "nbformat": 4,
 "nbformat_minor": 1
}
